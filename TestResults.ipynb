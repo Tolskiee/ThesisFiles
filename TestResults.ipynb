{
 "cells": [
  {
   "cell_type": "code",
   "execution_count": 6,
   "metadata": {},
   "outputs": [
    {
     "name": "stdout",
     "output_type": "stream",
     "text": [
      "thank you lord \n",
      "Negative Statement\n"
     ]
    }
   ],
   "source": [
    "from sklearn.feature_extraction.text import TfidfVectorizer\n",
    "import joblib\n",
    "from txtpreprocess import preprocess_text\n",
    "\n",
    "# Load the trained SVM model\n",
    "clf = joblib.load('svm_model.joblib')\n",
    "# Load the vectorizer fitted on the training data\n",
    "vectorizer = joblib.load('tfidf_vectorizer.joblib')\n",
    "# Get input from user\n",
    "sentiment = input(\"Enter a sentence to analyze: \")\n",
    "# Preprocess the input text\n",
    "sentiment_processed = preprocess_text(sentiment)\n",
    "# Vectorize the input text\n",
    "sentiment_vectorized = vectorizer.transform([sentiment_processed])\n",
    "# Predict the sentiment using the trained SVM model\n",
    "prediction = clf.predict(sentiment_vectorized)\n",
    "\n",
    "print(sentiment)\n",
    "# Print the prediction\n",
    "if prediction == 1:\n",
    "    print(\"Negative Statement\")\n",
    "else:\n",
    "    print(\"Positive sentiment\")\n"
   ]
  }
 ],
 "metadata": {
  "kernelspec": {
   "display_name": "Python 3",
   "language": "python",
   "name": "python3"
  },
  "language_info": {
   "codemirror_mode": {
    "name": "ipython",
    "version": 3
   },
   "file_extension": ".py",
   "mimetype": "text/x-python",
   "name": "python",
   "nbconvert_exporter": "python",
   "pygments_lexer": "ipython3",
   "version": "3.11.2"
  },
  "orig_nbformat": 4
 },
 "nbformat": 4,
 "nbformat_minor": 2
}
